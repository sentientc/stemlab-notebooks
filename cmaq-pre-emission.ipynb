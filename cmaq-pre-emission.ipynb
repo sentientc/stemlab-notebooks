{
 "cells": [
  {
   "cell_type": "code",
   "execution_count": 1,
   "metadata": {
    "collapsed": true,
    "nbpresent": {
     "id": "2026ebcc-fd60-4408-8db4-e310164bafd5"
    },
    "slideshow": {
     "slide_type": "skip"
    }
   },
   "outputs": [],
   "source": [
    "#!/usr/bin/env python\n",
    "# -*- coding: utf-8 -*-\n",
    "#anaconda env notebook has modified python source\n",
    "import numpy as np\n",
    "import pandas as pd\n",
    "import glob\n",
    "import sys\n",
    "sys.path.insert(0,'/wrk/simon/scripts/python/functions/')\n",
    "from read_teds9 import teds9_df,source_type,teds9_smoke0,gen_header,yulin_emis\n",
    "%load_ext autoreload"
   ]
  },
  {
   "cell_type": "code",
   "execution_count": 9,
   "metadata": {
    "collapsed": true,
    "nbpresent": {
     "id": "bbf687dc-2991-4a6b-a605-828eaff11104"
    },
    "slideshow": {
     "slide_type": "skip"
    }
   },
   "outputs": [],
   "source": [
    "ddir='/archives/data/tw/teds9/'\n",
    "files=glob.glob(''.join([ddir,'[!b]*[!m].dbf']))\n",
    "gen_orl=0\n",
    "gen_toxorl=0\n",
    "gen_srcgrp=0"
   ]
  },
  {
   "cell_type": "markdown",
   "metadata": {
    "nbpresent": {
     "id": "f5186295-28f1-4e60-81d4-e029c38e7f98"
    },
    "slideshow": {
     "slide_type": "notes"
    }
   },
   "source": [
    "TEDS 9.0\n",
    "----------\n",
    "----"
   ]
  },
  {
   "cell_type": "code",
   "execution_count": 3,
   "metadata": {
    "nbpresent": {
     "id": "b9b11188-98cf-4936-96bc-83eb1edde463"
    },
    "slideshow": {
     "slide_type": "skip"
    }
   },
   "outputs": [
    {
     "data": {
      "text/plain": [
       "['/archives/data/tw/teds9/linegrid.dbf',\n",
       " '/archives/data/tw/teds9/areagrid.dbf',\n",
       " '/archives/data/tw/teds9/point.dbf']"
      ]
     },
     "execution_count": 3,
     "metadata": {},
     "output_type": "execute_result"
    }
   ],
   "source": [
    "#files=files[0:2]\n",
    "files"
   ]
  },
  {
   "cell_type": "markdown",
   "metadata": {
    "nbpresent": {
     "id": "74266802-54b6-4f04-9833-400242d5e916"
    },
    "slideshow": {
     "slide_type": "notes"
    }
   },
   "source": [
    "Conversion to ORL point source format\n",
    "-----------\n",
    "---------"
   ]
  },
  {
   "cell_type": "code",
   "execution_count": 4,
   "metadata": {
    "collapsed": true,
    "nbpresent": {
     "id": "bc1f8b9d-8273-4cec-9ade-d40d5fd36b5b"
    },
    "slideshow": {
     "slide_type": "subslide"
    }
   },
   "outputs": [],
   "source": [
    "pref='pt'\n",
    "item='inv'\n",
    "SRCABBR0='point'\n",
    "ddir1=''.join(['/archives/utils/SMOKE/data/inventory/teds9/',SRCABBR0,'/'])\n",
    "#ddir1=''.join(['/archives/utils/SMOKE/data/inventory/teds9_cb5',SRCABBR0,'/'])\n",
    "lfile=''.join([ddir1,pref,item,'.',SRCABBR0,'.lst'])"
   ]
  },
  {
   "cell_type": "code",
   "execution_count": 8,
   "metadata": {
    "collapsed": true,
    "nbpresent": {
     "id": "17117885-c2c6-43df-881a-346ed4b86672"
    },
    "slideshow": {
     "slide_type": "skip"
    }
   },
   "outputs": [],
   "source": [
    "if gen_orl==1:\n",
    "    f1=open(lfile,'w')\n",
    "    f1.write('#LIST\\n')\n",
    "    f1.close()\n",
    "    for n,file in enumerate(files):\n",
    "        df=teds9_df(file)\n",
    "        ftype,stype,SRCABBR,pref,suf=source_type(file)\n",
    "        ofile=''.join([ddir1,pref,item,'_',suf])\n",
    "        print(''.join([file,'; ',ofile]))\n",
    "        f1=open(lfile,'a')\n",
    "        f1.write(''.join([ofile,'\\n']))\n",
    "        f1.close()\n",
    "        gen_header(ftype,stype,ofile)\n",
    "        teds9_smoke0(SRCABBR,df,ofile)"
   ]
  },
  {
   "cell_type": "markdown",
   "metadata": {
    "nbpresent": {
     "id": "db5cfc92-44de-4c1d-ba3b-4f37126b2eed"
    },
    "slideshow": {
     "slide_type": "notes"
    }
   },
   "source": [
    "Emission records of toxic pollutant in worst case senario(using mininmun stack heights)\n",
    "------------\n",
    "----------"
   ]
  },
  {
   "cell_type": "code",
   "execution_count": 6,
   "metadata": {
    "collapsed": true,
    "nbpresent": {
     "id": "dfc2bcd0-7e3a-42ff-b157-d97ce88972d1"
    },
    "slideshow": {
     "slide_type": "skip"
    }
   },
   "outputs": [],
   "source": [
    "#gen_toxrol=2"
   ]
  },
  {
   "cell_type": "code",
   "execution_count": 7,
   "metadata": {
    "collapsed": true,
    "nbpresent": {
     "id": "9d27ff4b-c4a0-471c-842d-d47d891a47ad"
    },
    "slideshow": {
     "slide_type": "skip"
    }
   },
   "outputs": [],
   "source": [
    "#read and output addition yulin base emission\n",
    "if gen_toxorl==1:\n",
    "    #all in 1 file\n",
    "    file=files[2]\n",
    "    ftype,stype,SRCABBR,pref,suf=source_type(file)\n",
    "    ddir1=''.join(['/archives/utils/SMOKE/data/inventory/teds9/',SRCABBR0,'/'])\n",
    "    ofile=''.join([ddir1,pref,item,'_yulin_',suf])\n",
    "    gen_header(ftype,stype,ofile)\n",
    "    yulin_emis(ofile,crit='worst')\n",
    "    lfile=''.join([ddir1,pref,item,'.',SRCABBR0,'.lst'])\n",
    "    f1=open(lfile,'a')\n",
    "    f1.write(''.join([ofile,'\\n']))\n",
    "    f1.close()\n",
    "elif gen_toxrol==2:\n",
    "    #1 file for each stack\n",
    "    yulin_emis('tmp',crit='worst',grp='each')"
   ]
  },
  {
   "cell_type": "code",
   "execution_count": null,
   "metadata": {
    "collapsed": true,
    "nbpresent": {
     "id": "c44bc36f-c865-4ba0-9619-ff47d74e92b7"
    },
    "slideshow": {
     "slide_type": "skip"
    }
   },
   "outputs": [],
   "source": [
    "#source groups(total)\n",
    "if gen_srcgrp==0:    \n",
    "    efile='/archives/data/tw/teds9/point.dbf'\n",
    "    dfile='/archives/data/tw/teds9/emissionLoc.xlsx'\n",
    "    df=teds9_df(efile)\n",
    "    df1=pd.read_excel(dfile,dtype=np.str,sheetname='Y2014',names=['factory','shp','VINYCHLRT','BUTADIE','PROPDICLR','BENZENE','TRICLA112','MECL','TTCLE1122','ETHDIBROM','CHCL3','CARBONTET','CL2_C2_12','ETHYLBENZ','STYRENE','CUMENE','ISOP','DICHLRBNZN','key'])\n",
    "    df1['SERIAL_NO']=df1.index.map(lambda x:'YL{:04d}'.format(int(x))).values\n",
    "    lfile='/archives/utils/SMOKE/data/inventory/teds9/other/source_groups.nc.txt'\n",
    "    f1=open(lfile,'w')\n",
    "    for nn,row in df1.iterrows():\n",
    "        f1.write(''.join([str(nn+1),' 739130 000000 ',row['SERIAL_NO'],' \\n']))                     \n",
    "    f1.close()"
   ]
  },
  {
   "cell_type": "code",
   "execution_count": null,
   "metadata": {
    "collapsed": true,
    "nbpresent": {
     "id": "68c7f8ea-4317-4040-9fac-42de8f73e593"
    },
    "slideshow": {
     "slide_type": "skip"
    }
   },
   "outputs": [],
   "source": [
    "#source groups(stacks)\n",
    "if gen_srcgrp==0:    \n",
    "    efile='/archives/data/tw/teds9/point.dbf'\n",
    "    dfile='/archives/data/tw/teds9/emissionLoc.xlsx'\n",
    "    df=teds9_df(efile)\n",
    "    df1=pd.read_excel(dfile,dtype=np.str,sheetname='Y2014',names=['factory','shp','VINYCHLRT','BUTADIE','PROPDICLR','BENZENE','TRICLA112','MECL','TTCLE1122','ETHDIBROM','CHCL3','CARBONTET','CL2_C2_12','ETHYLBENZ','STYRENE','CUMENE','ISOP','DICHLRBNZN','key'])\n",
    "    df1['SERIAL_NO']=df1.index.map(lambda x:'YL{:04d}'.format(int(x))).values\n",
    "    lfile='/archives/utils/SMOKE/data/inventory/teds9/other/source_groups.nc.txt'\n",
    "    f1=open(lfile,'w')\n",
    "    for nn,row in df1.iterrows():\n",
    "        f1.write(''.join([str(nn+1),' 739130 000000 ',row['SERIAL_NO'],' \\n']))                     \n",
    "    f1.close()"
   ]
  },
  {
   "cell_type": "markdown",
   "metadata": {
    "nbpresent": {
     "id": "770a9cee-4873-40c5-926b-4c913d05ee54"
    },
    "slideshow": {
     "slide_type": "slide"
    }
   },
   "source": [
    "Machine Learning for observation based emission estimation\n",
    "------\n",
    "------\n",
    "$$C_j=\\sum^{n'}_{i=0}\\theta(\\varepsilon_i,l_j,t)$$\n",
    "$\\theta(\\varepsilon_i,l_j,t)$ is the contribution of the emission($\\varepsilon_i$ at time t) of a pollutant to the location $l_j$ at time t. Sum of $\\theta$ from all emissions($n'$) is the pollutant concentration($C_j$) at location $l_j$.\n",
    "CMAQ DDM 3D sensitivity(S)\n",
    "-----------\n",
    "$$S_{ij}=\\frac{\\partial C_j}{\\partial \\varepsilon_i}$$\n",
    "$$\\therefore C_j=\\sum^{n'}_{i=1}\\varepsilon_iS_{ij}$$\n",
    "Model the observed pollutant concetration as(surrogate model)\n",
    "$$\\left[\\begin{array}{c}\n",
    "C_1(t)  \\\\\n",
    "C_2(t)  \\\\\n",
    "\\vdots \\\\\n",
    "C_{m-1}(t)  \\\\\n",
    "C_m(t)\n",
    "\\end{array}\\right] \\approx\n",
    "\\left[\\begin{array}{c}\n",
    "H_1(t)  \\\\\n",
    "H_2(t)  \\\\\n",
    "\\vdots \\\\\n",
    "H_{m-1}(t)  \\\\\n",
    "H_m(t)\n",
    "\\end{array}\\right]=\n",
    "\\left[\\begin{array}{cccc}\n",
    "\\sigma_1(t) & S_1(t)\\varepsilon_1(t) & S_1(t)\\varepsilon_2(t) & \\cdots & S_1(t)\\varepsilon_n(t) \\\\\n",
    "\\sigma_2(t) & S_2(t)\\varepsilon_1(t) & S_2(t)\\varepsilon_2(t) & \\cdots & S_2(t)\\varepsilon_n(t) \\\\\n",
    "\\vdots & \\vdots & \\vdots & \\ddots & \\vdots  \\\\\n",
    "\\sigma_{m-1}(t) & S_{m-1}(t)\\varepsilon_1(t) & S_{m-1}(t)\\varepsilon_2(t) & \\cdots & S_{m-1}(t)\\varepsilon_n(t) \\\\\n",
    "\\sigma_m(t) & S_{m}(t)\\varepsilon_1(t) & S_{m}(t)\\varepsilon_2(t) & \\cdots & S_{m}(t)\\varepsilon_n(t) \n",
    "\\end{array}\\right]\n",
    "\\left[\\begin{array}{c}\n",
    "x_0(t) \\\\\n",
    "x_1(t)  \\\\\n",
    "x_2(t)  \\\\\n",
    "\\vdots \\\\\n",
    "x_{n-1}(t)  \\\\\n",
    "x_n(t)\n",
    "\\end{array}\\right]\n",
    "$$\n",
    "$\\sigma_1 \\cdots \\sigma_m$ are the unknown at location 1 $\\cdots$ m. The unknown includes model error and pollutant concentration cannot be explained by the emssions $\\varepsilon_1 \\cdots \\varepsilon_n(n<n')$. $x_1 \\cdots x_n$ are the modification to these emissions so the hypothesis($H_1 \\cdots H_m$) are closer to observed concentration($C_1 \\cdots C_m$).  \n",
    "The goal is finding the best modification to minimise the difference between the observed with model results. That is minimise the cost function J.\n",
    "$$J=\\frac{1}{2}\\sum^m_{j=1}(H_j-C_j)^2$$\n",
    "There maybe no sufficient data to derive $x_i$ including its temperol pattern. For instance, observed concentration($C_j$) for a pollutant species lack representation in time."
   ]
  },
  {
   "cell_type": "markdown",
   "metadata": {
    "nbpresent": {
     "id": "113aeac9-9583-4df5-9749-75589cc12888"
    },
    "slideshow": {
     "slide_type": "subslide"
    }
   },
   "source": [
    "Addtional input\n",
    "--------\n",
    "Include boundary condition as another factor"
   ]
  },
  {
   "cell_type": "markdown",
   "metadata": {
    "nbpresent": {
     "id": "310aef97-254d-467e-ab65-2f991a41c7a4"
    },
    "slideshow": {
     "slide_type": "slide"
    }
   },
   "source": [
    "Attempt I(linear regression with machine learning)\n",
    "-------\n",
    "Let $ x_i \\ \\& \\ \\varepsilon_i $ invariant over time for each stack and assuming emission profile or partial profile of earch stack is correct. $C_j$ can then expanded to different pollutant species. $C_j$ location subscript $1 \\cdots m$ is then a combination of profile species($k \\subset 1 \\cdots o$) and location($C_{jk}$).\n",
    "and\n",
    "$$C_{jk}=\\sum^{n'}_{i=1}x_{ik}\\varepsilon_{ik}S_{ijk}$$\n",
    "$$J=\\frac{1}{2}\\sum^{m,o}_{j=1,k=1}(H_{jk}(t)-C_{jk}(t))^2$$"
   ]
  },
  {
   "cell_type": "code",
   "execution_count": null,
   "metadata": {
    "collapsed": true,
    "nbpresent": {
     "id": "731169e5-1b13-407b-9bf3-e11c2962d44b"
    },
    "slideshow": {
     "slide_type": "subslide"
    }
   },
   "outputs": [],
   "source": []
  },
  {
   "cell_type": "markdown",
   "metadata": {
    "collapsed": true,
    "nbpresent": {
     "id": "1fbffd29-4e9e-4670-a028-b2f1bc9dd394"
    },
    "slideshow": {
     "slide_type": "slide"
    }
   },
   "source": [
    "Attempt II(Extended Kalman filter)\n",
    "----------\n",
    "Let $ x_i \\ \\& \\ \\varepsilon_i $ invariant over time for each stack and assuming emission profile or partial profile of earch stack is correct. $C_j$ can then expanded to different pollutant species. $C_j$ location subscript $1 \\cdots m$ is then a combination of profile species($k \\subset 1 \\cdots o$) and location($C_{jk}$). $v_{jk}$ is a noise term which defined as the difference between $C_{jk}$ and $H_{jk}$.  \n",
    "$$C_{jk}(t)=S H_{jk}(t)+v_{jk}(t)$$\n",
    "$$H_{jk}(t)=S_1 H_{jk}(t-1)+S_0 u_{jk}(t)$$\n",
    "\n",
    "Furthermore, define Kalman gain($g_{jk}$) as\n",
    "$$\\hat{H_{jk}}(t)=\\hat{H_{jk}}(t-1)+g_{jk}(t)(C_{jk}-\\hat{H_{jk}}(t-1))$$\n",
    "$$g_{jk}(t)=\\frac{\\sigma_{jk}(t)}{\\sigma_{jk}(t-1)+r}$$\n",
    "\n",
    "Predicting next time step\n",
    "$$\\hat{H_{jk}}(t)=S_1 \\hat{H_{jk}}(t-1)+S_0 u_{jk}$$\n",
    "$$\\sigma_{jk}(t)=S_1\\sigma_{jk}(t-1)S_1$$\n",
    "$$g_{jk}(t)=\\frac{S\\sigma_{jk}(t)}{S\\sigma_{jk}(t-1)S+r}$$\n",
    "$$\\hat{H_{jk}}(t)\\leftarrow\\hat{H_{jk}}(t)+g_{jk}(t)(C_{jk}(t)-S\\hat{H_{jk}}(t))$$\n",
    "$$\\sigma_{jk}(t)\\leftarrow(1-Sg_{jk})\\sigma_{jk}$$\n",
    "\n",
    "Run CMAQ in 6 hours interval and update each 6 hourly result with Kalman filter then use the updated last time step as initial condition for the next 6 hours run."
   ]
  },
  {
   "cell_type": "code",
   "execution_count": null,
   "metadata": {
    "collapsed": true,
    "nbpresent": {
     "id": "93290c9c-f752-445b-8e90-6e29238e6544"
    },
    "slideshow": {
     "slide_type": "subslide"
    }
   },
   "outputs": [],
   "source": []
  },
  {
   "cell_type": "markdown",
   "metadata": {
    "nbpresent": {
     "id": "ab07e3b6-5e6b-43af-82a7-bc206bd735db"
    },
    "slideshow": {
     "slide_type": "slide"
    }
   },
   "source": [
    "Attempt III(pySOT)\n",
    "-------\n",
    "Derive a surrogate using pySOT. Input parameters includes all cmaq input and results from pervious time step. Steps pending."
   ]
  },
  {
   "cell_type": "code",
   "execution_count": null,
   "metadata": {
    "collapsed": true,
    "nbpresent": {
     "id": "0a1eb8e4-20cd-4f58-b3c0-a3c9496a9dde"
    },
    "slideshow": {
     "slide_type": "subslide"
    }
   },
   "outputs": [],
   "source": []
  },
  {
   "cell_type": "markdown",
   "metadata": {
    "nbpresent": {
     "id": "28fc5ea1-0d85-4d2a-b95c-afdf5b2ffad3"
    },
    "slideshow": {
     "slide_type": "slide"
    }
   },
   "source": [
    "To-DO\n",
    "--------\n",
    "1.Derive a temporal profile for the stacks  \n",
    "2.Add sensitivity of boundary condition  \n",
    "3.Add photolysis and reaction to the species added(may not needed as there is no photolysis rate for benzene and isoprene in the code)   \n",
    "4.Add large scale emission from EDGER database(sensitivity of BC may sufficient to replace this)"
   ]
  },
  {
   "cell_type": "code",
   "execution_count": null,
   "metadata": {
    "collapsed": true,
    "nbpresent": {
     "id": "f2ce61d6-f1d2-48b4-be39-a554c9100123"
    },
    "slideshow": {
     "slide_type": "skip"
    }
   },
   "outputs": [],
   "source": [
    "from read_teds9 import teds_att\n",
    "efile='/archives/data/tw/teds9/point.dbf'\n",
    "dfile='/archives/data/tw/teds9/emissionLoc.xlsx'\n",
    "df=teds9_df(efile)\n",
    "df1=pd.read_excel(dfile,dtype=np.str,sheetname='Y2014',names=['factory','shp','VINYCHLRT','BUTADIE','PROPDICLR','BENZENE','TRICLA112','MECL','TTCLE1122','ETHDIBROM','CHCL3','CARBONTET','CL2_C2_12','ETHYLBENZ','STYRENE','CUMENE','ISOP','DICHLRBNZN','key'])\n",
    "df1['SERIAL_NO']=df1.index.map(lambda x:'YL{:04d}'.format(int(x))).values\n",
    "df0=df1['key'].map(lambda x:teds_att(df,x,crit='worst'))\n",
    "df1['WGS84_E']=df0.map(lambda x:x[0]).values\n",
    "df1['WGS84_N']=df0.map(lambda x:x[1]).values"
   ]
  },
  {
   "cell_type": "code",
   "execution_count": null,
   "metadata": {
    "collapsed": true,
    "nbpresent": {
     "id": "d0db59ba-e6ac-4b96-98cc-fd083cfb36a6"
    },
    "slideshow": {
     "slide_type": "skip"
    }
   },
   "outputs": [],
   "source": [
    "from mpl_toolkits.basemap import Basemap\n",
    "import matplotlib.pyplot as plt\n",
    "import numpy as np\n",
    "\n",
    "map = Basemap(projection='merc' , \n",
    "            resolution='i' , fix_aspect=True,\n",
    "            llcrnrlon=120.0 , llcrnrlat=23.5, \n",
    "            urcrnrlon=120.5 , urcrnrlat=24.5,\n",
    "            lat_ts =20)\n",
    "fcx,fcy=map(df1['WGS84_E'].values, df1['WGS84_N'].values)\n",
    "#海岸線的寬度\n",
    "map.drawcoastlines(linewidth=1)\n",
    "\n",
    "#畫緯度線23.5和25,labels標示出座標度數,fontsize文字大小\n",
    "map.drawparallels(np.arange(23.5 , 24) , labels=[1,0,0,0] , fontsize=10)\n",
    "\n",
    "#畫經度線120和122,labels標示出座標度數,fontsize文字大小\n",
    "map.drawmeridians(np.arange(120,122),labels=[0,0,0,1],fontsize=10)\n",
    "\n",
    "plt.plot(fcx,fcy,'ro', markersize = 2)\n",
    "#map 底色backgroubd-color\n",
    "#map.drawmapboundary(fill_color='aqua')\n",
    "\n",
    "#取一個title\n",
    "plt.title('Practice')\n",
    "\n",
    "#設定XY說明label , xy範圍0~1(預設是中間0.5)\n",
    "plt.xlabel('lon' , fontsize=12 , x=0.5)\n",
    "plt.ylabel('lat' , fontsize=12 , y=0.5)\n",
    "\n",
    "plt.show()\n",
    "\n"
   ]
  },
  {
   "cell_type": "code",
   "execution_count": null,
   "metadata": {
    "collapsed": true,
    "nbpresent": {
     "id": "d9533223-6ee3-4fae-b7db-fdd1ec2653af"
    },
    "slideshow": {
     "slide_type": "skip"
    }
   },
   "outputs": [],
   "source": [
    "df2 = pd.DataFrame()\n",
    "df2 = df2.append(df1['WGS84_E'], ignore_index = True)\n",
    "df2 = df2.append(df1['WGS84_N'], ignore_index = True)\n",
    "df3 = df2.T\n",
    "df3.to_csv('aab.csv')"
   ]
  },
  {
   "cell_type": "code",
   "execution_count": null,
   "metadata": {
    "collapsed": true,
    "nbpresent": {
     "id": "dec02899-1801-4173-b19f-be58a2761264"
    },
    "slideshow": {
     "slide_type": "skip"
    }
   },
   "outputs": [],
   "source": [
    "\n"
   ]
  },
  {
   "cell_type": "code",
   "execution_count": null,
   "metadata": {
    "collapsed": true,
    "nbpresent": {
     "id": "84ee88ad-bea7-4f1c-87cd-7dd4e30fbe42"
    },
    "slideshow": {
     "slide_type": "skip"
    }
   },
   "outputs": [],
   "source": [
    "df1"
   ]
  },
  {
   "cell_type": "code",
   "execution_count": null,
   "metadata": {
    "collapsed": true,
    "nbpresent": {
     "id": "b110d502-089b-451c-b7bb-5ddb1e371518"
    },
    "slideshow": {
     "slide_type": "skip"
    }
   },
   "outputs": [],
   "source": []
  },
  {
   "cell_type": "code",
   "execution_count": null,
   "metadata": {
    "collapsed": true,
    "nbpresent": {
     "id": "10c1014d-7c89-44fc-886a-a73a6efe8ff6"
    },
    "slideshow": {
     "slide_type": "skip"
    }
   },
   "outputs": [],
   "source": []
  }
 ],
 "metadata": {
  "celltoolbar": "Slideshow",
  "kernelspec": {
   "display_name": "Python [default]",
   "language": "python",
   "name": "python3"
  },
  "language_info": {
   "codemirror_mode": {
    "name": "ipython",
    "version": 3
   },
   "file_extension": ".py",
   "mimetype": "text/x-python",
   "name": "python",
   "nbconvert_exporter": "python",
   "pygments_lexer": "ipython3",
   "version": "3.6.3"
  },
  "nbpresent": {
   "slides": {
    "0cbbce6d-a93d-479a-a1d6-c8b43d036938": {
     "id": "0cbbce6d-a93d-479a-a1d6-c8b43d036938",
     "prev": "b160f771-5444-4c1f-8c8c-6fed13b6e89f",
     "regions": {
      "ab20805b-cd7d-4d15-8e0c-6d1e8c7c3b44": {
       "attrs": {
        "height": 0.8,
        "width": 0.8,
        "x": 0.1,
        "y": 0.1
       },
       "content": {
        "cell": "d9533223-6ee3-4fae-b7db-fdd1ec2653af",
        "part": "whole"
       },
       "id": "ab20805b-cd7d-4d15-8e0c-6d1e8c7c3b44"
      }
     }
    },
    "20302182-6f6e-4eea-a3f6-18d42fc47542": {
     "id": "20302182-6f6e-4eea-a3f6-18d42fc47542",
     "prev": "2c3eaaa3-e0e3-4a1e-b88f-6c23da6ef7a5",
     "regions": {
      "0ced7966-5767-45d4-9ad9-c9f3345e06c8": {
       "attrs": {
        "height": 0.8,
        "width": 0.8,
        "x": 0.1,
        "y": 0.1
       },
       "content": {
        "cell": "17117885-c2c6-43df-881a-346ed4b86672",
        "part": "whole"
       },
       "id": "0ced7966-5767-45d4-9ad9-c9f3345e06c8"
      }
     }
    },
    "21070a90-893d-40ad-94ac-df18c42e8699": {
     "id": "21070a90-893d-40ad-94ac-df18c42e8699",
     "prev": "d31dc85a-9aa5-44c5-ac67-f233d9ed7402",
     "regions": {
      "fd21d622-52c4-44bf-abd4-9513eef83511": {
       "attrs": {
        "height": 0.8,
        "width": 0.8,
        "x": 0.1,
        "y": 0.1
       },
       "content": {
        "cell": "f5186295-28f1-4e60-81d4-e029c38e7f98",
        "part": "whole"
       },
       "id": "fd21d622-52c4-44bf-abd4-9513eef83511"
      }
     }
    },
    "2c256839-eeb9-40e0-a7c9-2a450719316e": {
     "id": "2c256839-eeb9-40e0-a7c9-2a450719316e",
     "prev": "a2bdabf1-0dcf-46f4-8de4-06d3fd1b30fb",
     "regions": {
      "92264f6c-2e7c-4a7b-a964-6f3f207f4e97": {
       "attrs": {
        "height": 0.8,
        "width": 0.8,
        "x": 0.1,
        "y": 0.1
       },
       "content": {
        "cell": "731169e5-1b13-407b-9bf3-e11c2962d44b",
        "part": "whole"
       },
       "id": "92264f6c-2e7c-4a7b-a964-6f3f207f4e97"
      }
     }
    },
    "2c3eaaa3-e0e3-4a1e-b88f-6c23da6ef7a5": {
     "id": "2c3eaaa3-e0e3-4a1e-b88f-6c23da6ef7a5",
     "prev": "89a4f83e-8f6e-449f-a28a-7505c61dbe98",
     "regions": {
      "12fb9053-1df8-4343-b3ba-cd5e6d939a47": {
       "attrs": {
        "height": 0.8,
        "width": 0.8,
        "x": 0.1,
        "y": 0.1
       },
       "content": {
        "cell": "bc1f8b9d-8273-4cec-9ade-d40d5fd36b5b",
        "part": "whole"
       },
       "id": "12fb9053-1df8-4343-b3ba-cd5e6d939a47"
      }
     }
    },
    "4208e0f0-e2cc-486e-a6c1-e3c242336914": {
     "id": "4208e0f0-e2cc-486e-a6c1-e3c242336914",
     "prev": "b2983882-efd0-4dd2-af91-69ce1baabd79",
     "regions": {
      "d2e1eb07-c039-422b-bec0-d08d0ac76c5b": {
       "attrs": {
        "height": 0.8,
        "width": 0.8,
        "x": 0.1,
        "y": 0.1
       },
       "content": {
        "cell": "9d27ff4b-c4a0-471c-842d-d47d891a47ad",
        "part": "whole"
       },
       "id": "d2e1eb07-c039-422b-bec0-d08d0ac76c5b"
      }
     }
    },
    "4bec7009-7f30-44a3-90cc-e525a8f2fa6a": {
     "id": "4bec7009-7f30-44a3-90cc-e525a8f2fa6a",
     "prev": "b7799bc2-b78b-4f26-89b5-210fa5bb4f0b",
     "regions": {
      "29282d19-683f-4344-bda8-c7559f38a31a": {
       "attrs": {
        "height": 0.8,
        "width": 0.8,
        "x": 0.1,
        "y": 0.1
       },
       "content": {
        "cell": "ab07e3b6-5e6b-43af-82a7-bc206bd735db",
        "part": "whole"
       },
       "id": "29282d19-683f-4344-bda8-c7559f38a31a"
      }
     }
    },
    "4d134807-339f-4457-b93e-a794eee7a821": {
     "id": "4d134807-339f-4457-b93e-a794eee7a821",
     "prev": "fe1e7c92-bb74-47d1-be52-0598368ec0ef",
     "regions": {
      "927ed7ad-a2bc-4a0c-9920-ea888c820cce": {
       "attrs": {
        "height": 0.8,
        "width": 0.8,
        "x": 0.1,
        "y": 0.1
       },
       "content": {
        "cell": "10c1014d-7c89-44fc-886a-a73a6efe8ff6",
        "part": "whole"
       },
       "id": "927ed7ad-a2bc-4a0c-9920-ea888c820cce"
      }
     }
    },
    "4f606af6-80f5-4fbe-a37f-50ac7d7725d6": {
     "id": "4f606af6-80f5-4fbe-a37f-50ac7d7725d6",
     "prev": "0cbbce6d-a93d-479a-a1d6-c8b43d036938",
     "regions": {
      "9bcc286a-e84d-4eb3-8571-babe4df92031": {
       "attrs": {
        "height": 0.8,
        "width": 0.8,
        "x": 0.1,
        "y": 0.1
       },
       "content": {
        "cell": "dec02899-1801-4173-b19f-be58a2761264",
        "part": "whole"
       },
       "id": "9bcc286a-e84d-4eb3-8571-babe4df92031"
      }
     }
    },
    "5a0b2ca1-ecc0-41ad-8655-5de326a5ff8c": {
     "id": "5a0b2ca1-ecc0-41ad-8655-5de326a5ff8c",
     "prev": "4208e0f0-e2cc-486e-a6c1-e3c242336914",
     "regions": {
      "932494a5-fcea-4beb-bbff-12d5e3555d50": {
       "attrs": {
        "height": 0.8,
        "width": 0.8,
        "x": 0.1,
        "y": 0.1
       },
       "content": {
        "cell": "c44bc36f-c865-4ba0-9619-ff47d74e92b7",
        "part": "whole"
       },
       "id": "932494a5-fcea-4beb-bbff-12d5e3555d50"
      }
     }
    },
    "6ec12306-ab8a-4184-8885-c9132e5c349b": {
     "id": "6ec12306-ab8a-4184-8885-c9132e5c349b",
     "prev": "4bec7009-7f30-44a3-90cc-e525a8f2fa6a",
     "regions": {
      "1c06b254-ff79-4dc5-bd35-fc4d9b2fdae2": {
       "attrs": {
        "height": 0.8,
        "width": 0.8,
        "x": 0.1,
        "y": 0.1
       },
       "content": {
        "cell": "0a1eb8e4-20cd-4f58-b3c0-a3c9496a9dde",
        "part": "whole"
       },
       "id": "1c06b254-ff79-4dc5-bd35-fc4d9b2fdae2"
      }
     }
    },
    "6fa9ffa4-5512-49e9-84e0-aa214237d1c0": {
     "id": "6fa9ffa4-5512-49e9-84e0-aa214237d1c0",
     "prev": "6ec12306-ab8a-4184-8885-c9132e5c349b",
     "regions": {
      "a98f2cf7-6e3c-4e6f-a00d-2a8d855fec2c": {
       "attrs": {
        "height": 0.8,
        "width": 0.8,
        "x": 0.1,
        "y": 0.1
       },
       "content": {
        "cell": "28fc5ea1-0d85-4d2a-b95c-afdf5b2ffad3",
        "part": "whole"
       },
       "id": "a98f2cf7-6e3c-4e6f-a00d-2a8d855fec2c"
      }
     }
    },
    "7e3338aa-34da-42e3-a7c1-0dfaaadebc08": {
     "id": "7e3338aa-34da-42e3-a7c1-0dfaaadebc08",
     "prev": "7ea08680-e3f2-42f2-b934-6c1b89fa64d5",
     "regions": {
      "0c6076bc-36a0-4211-958b-cceb38420ee5": {
       "attrs": {
        "height": 0.8,
        "width": 0.8,
        "x": 0.1,
        "y": 0.1
       },
       "content": {
        "cell": "770a9cee-4873-40c5-926b-4c913d05ee54",
        "part": "whole"
       },
       "id": "0c6076bc-36a0-4211-958b-cceb38420ee5"
      }
     }
    },
    "7ea08680-e3f2-42f2-b934-6c1b89fa64d5": {
     "id": "7ea08680-e3f2-42f2-b934-6c1b89fa64d5",
     "prev": "5a0b2ca1-ecc0-41ad-8655-5de326a5ff8c",
     "regions": {
      "b7af24e6-f981-4596-bdcc-1b7d83d6f211": {
       "attrs": {
        "height": 0.8,
        "width": 0.8,
        "x": 0.1,
        "y": 0.1
       },
       "content": {
        "cell": "68c7f8ea-4317-4040-9fac-42de8f73e593",
        "part": "whole"
       },
       "id": "b7af24e6-f981-4596-bdcc-1b7d83d6f211"
      }
     }
    },
    "89a4f83e-8f6e-449f-a28a-7505c61dbe98": {
     "id": "89a4f83e-8f6e-449f-a28a-7505c61dbe98",
     "prev": "c2cecb09-31d5-4752-8bbe-d6f91ab963c4",
     "regions": {
      "467cfca8-d063-4710-90a5-82307d616df7": {
       "attrs": {
        "height": 0.8,
        "width": 0.8,
        "x": 0.1,
        "y": 0.1
       },
       "content": {
        "cell": "74266802-54b6-4f04-9833-400242d5e916",
        "part": "whole"
       },
       "id": "467cfca8-d063-4710-90a5-82307d616df7"
      }
     }
    },
    "a2bdabf1-0dcf-46f4-8de4-06d3fd1b30fb": {
     "id": "a2bdabf1-0dcf-46f4-8de4-06d3fd1b30fb",
     "prev": "d5af0bdb-7b09-4dde-a156-4fc319078d4c",
     "regions": {
      "ec481566-3fb9-4001-a989-afaf729aead3": {
       "attrs": {
        "height": 0.8,
        "width": 0.8,
        "x": 0.1,
        "y": 0.1
       },
       "content": {
        "cell": "310aef97-254d-467e-ab65-2f991a41c7a4",
        "part": "whole"
       },
       "id": "ec481566-3fb9-4001-a989-afaf729aead3"
      }
     }
    },
    "a8cf6b50-c8ac-4c1a-b379-bae532dfc6ce": {
     "id": "a8cf6b50-c8ac-4c1a-b379-bae532dfc6ce",
     "prev": "2c256839-eeb9-40e0-a7c9-2a450719316e",
     "regions": {
      "063bb879-19ed-49f4-beda-0170d91513f1": {
       "attrs": {
        "height": 0.8,
        "width": 0.8,
        "x": 0.1,
        "y": 0.1
       },
       "content": {
        "cell": "1fbffd29-4e9e-4670-a028-b2f1bc9dd394",
        "part": "whole"
       },
       "id": "063bb879-19ed-49f4-beda-0170d91513f1"
      }
     }
    },
    "ae646212-81f1-4dab-a87c-027932d97641": {
     "id": "ae646212-81f1-4dab-a87c-027932d97641",
     "prev": "6fa9ffa4-5512-49e9-84e0-aa214237d1c0",
     "regions": {
      "36dcc814-7331-46be-bad6-f3c77874fea4": {
       "attrs": {
        "height": 0.8,
        "width": 0.8,
        "x": 0.1,
        "y": 0.1
       },
       "content": {
        "cell": "f2ce61d6-f1d2-48b4-be39-a554c9100123",
        "part": "whole"
       },
       "id": "36dcc814-7331-46be-bad6-f3c77874fea4"
      }
     }
    },
    "b160f771-5444-4c1f-8c8c-6fed13b6e89f": {
     "id": "b160f771-5444-4c1f-8c8c-6fed13b6e89f",
     "prev": "ae646212-81f1-4dab-a87c-027932d97641",
     "regions": {
      "092542a3-1a82-47be-bdb8-e8537232fd83": {
       "attrs": {
        "height": 0.8,
        "width": 0.8,
        "x": 0.1,
        "y": 0.1
       },
       "content": {
        "cell": "d0db59ba-e6ac-4b96-98cc-fd083cfb36a6",
        "part": "whole"
       },
       "id": "092542a3-1a82-47be-bdb8-e8537232fd83"
      }
     }
    },
    "b2983882-efd0-4dd2-af91-69ce1baabd79": {
     "id": "b2983882-efd0-4dd2-af91-69ce1baabd79",
     "prev": "bd7666ff-2d46-4803-9880-6496c0fb479f",
     "regions": {
      "6c58fb14-c55f-4733-9327-1da0cdfdaabd": {
       "attrs": {
        "height": 0.8,
        "width": 0.8,
        "x": 0.1,
        "y": 0.1
       },
       "content": {
        "cell": "dfc2bcd0-7e3a-42ff-b157-d97ce88972d1",
        "part": "whole"
       },
       "id": "6c58fb14-c55f-4733-9327-1da0cdfdaabd"
      }
     }
    },
    "b7799bc2-b78b-4f26-89b5-210fa5bb4f0b": {
     "id": "b7799bc2-b78b-4f26-89b5-210fa5bb4f0b",
     "prev": "a8cf6b50-c8ac-4c1a-b379-bae532dfc6ce",
     "regions": {
      "e4898531-d306-4a1e-a332-6bc56f6828a4": {
       "attrs": {
        "height": 0.8,
        "width": 0.8,
        "x": 0.1,
        "y": 0.1
       },
       "content": {
        "cell": "93290c9c-f752-445b-8e90-6e29238e6544",
        "part": "whole"
       },
       "id": "e4898531-d306-4a1e-a332-6bc56f6828a4"
      }
     }
    },
    "bd7666ff-2d46-4803-9880-6496c0fb479f": {
     "id": "bd7666ff-2d46-4803-9880-6496c0fb479f",
     "prev": "20302182-6f6e-4eea-a3f6-18d42fc47542",
     "regions": {
      "8feb1764-3fb4-459f-8719-77460035988e": {
       "attrs": {
        "height": 0.8,
        "width": 0.8,
        "x": 0.1,
        "y": 0.1
       },
       "content": {
        "cell": "db5cfc92-44de-4c1d-ba3b-4f37126b2eed",
        "part": "whole"
       },
       "id": "8feb1764-3fb4-459f-8719-77460035988e"
      }
     }
    },
    "c2cecb09-31d5-4752-8bbe-d6f91ab963c4": {
     "id": "c2cecb09-31d5-4752-8bbe-d6f91ab963c4",
     "prev": "21070a90-893d-40ad-94ac-df18c42e8699",
     "regions": {
      "0fe278a7-0d6a-42b1-8d60-d60cb19255d1": {
       "attrs": {
        "height": 0.8,
        "width": 0.8,
        "x": 0.1,
        "y": 0.1
       },
       "content": {
        "cell": "b9b11188-98cf-4936-96bc-83eb1edde463",
        "part": "whole"
       },
       "id": "0fe278a7-0d6a-42b1-8d60-d60cb19255d1"
      }
     }
    },
    "d31dc85a-9aa5-44c5-ac67-f233d9ed7402": {
     "id": "d31dc85a-9aa5-44c5-ac67-f233d9ed7402",
     "prev": null,
     "regions": {
      "a97d1fc4-113c-4108-a400-91638ed56afc": {
       "attrs": {
        "height": 0.8,
        "width": 0.8,
        "x": 0.1,
        "y": 0.1
       },
       "content": {
        "cell": "bbf687dc-2991-4a6b-a605-828eaff11104",
        "part": "whole"
       },
       "id": "a97d1fc4-113c-4108-a400-91638ed56afc"
      }
     }
    },
    "d5af0bdb-7b09-4dde-a156-4fc319078d4c": {
     "id": "d5af0bdb-7b09-4dde-a156-4fc319078d4c",
     "prev": "7e3338aa-34da-42e3-a7c1-0dfaaadebc08",
     "regions": {
      "7f5a065a-3dfd-4b36-b872-b432de63321c": {
       "attrs": {
        "height": 0.8,
        "width": 0.8,
        "x": 0.1,
        "y": 0.1
       },
       "content": {
        "cell": "113aeac9-9583-4df5-9749-75589cc12888",
        "part": "whole"
       },
       "id": "7f5a065a-3dfd-4b36-b872-b432de63321c"
      }
     }
    },
    "d650eb2d-2ae9-4c2f-9436-836f92b9b259": {
     "id": "d650eb2d-2ae9-4c2f-9436-836f92b9b259",
     "prev": "4f606af6-80f5-4fbe-a37f-50ac7d7725d6",
     "regions": {
      "0ac8c68a-f5e8-40a6-9c5e-8c7207fb48e1": {
       "attrs": {
        "height": 0.8,
        "width": 0.8,
        "x": 0.1,
        "y": 0.1
       },
       "content": {
        "cell": "84ee88ad-bea7-4f1c-87cd-7dd4e30fbe42",
        "part": "whole"
       },
       "id": "0ac8c68a-f5e8-40a6-9c5e-8c7207fb48e1"
      }
     }
    },
    "fe1e7c92-bb74-47d1-be52-0598368ec0ef": {
     "id": "fe1e7c92-bb74-47d1-be52-0598368ec0ef",
     "prev": "d650eb2d-2ae9-4c2f-9436-836f92b9b259",
     "regions": {
      "f9d88fd9-97c7-4b80-9c0a-a9b3e4a4b15f": {
       "attrs": {
        "height": 0.8,
        "width": 0.8,
        "x": 0.1,
        "y": 0.1
       },
       "content": {
        "cell": "b110d502-089b-451c-b7bb-5ddb1e371518",
        "part": "whole"
       },
       "id": "f9d88fd9-97c7-4b80-9c0a-a9b3e4a4b15f"
      }
     }
    }
   },
   "themes": {}
  }
 },
 "nbformat": 4,
 "nbformat_minor": 2
}
