{
 "cells": [
  {
   "cell_type": "code",
   "execution_count": 1,
   "metadata": {},
   "outputs": [
    {
     "name": "stdout",
     "output_type": "stream",
     "text": [
      "/archives/utils/SMOKE/data/inventory/teds9/point/tscc.pkl loaded\n"
     ]
    }
   ],
   "source": [
    "import pandas as pd\n",
    "import numpy as np\n",
    "import matplotlib.pyplot as plt\n",
    "import matplotlib as mpl\n",
    "import sys\n",
    "sys.path.insert(0,'/wrk/simon/scripts/python/functions/')\n",
    "from read_smk import read_dat,get_speciate,get_tprof,read_inv,get_abbr,get_scc\n",
    "from matlab_functions import ismember,fdainb\n",
    "from IPython.core.interactiveshell import InteractiveShell\n",
    "InteractiveShell.ast_node_interactivity = \"none\"\n",
    "%matplotlib inline\n",
    "tscc=get_scc('39130','VOC')"
   ]
  },
  {
   "cell_type": "markdown",
   "metadata": {},
   "source": [
    "##### WEBFIRE species from SCC in YUNLIN"
   ]
  },
  {
   "cell_type": "code",
   "execution_count": 2,
   "metadata": {
    "collapsed": true
   },
   "outputs": [],
   "source": [
    "dfile='/archives/data/speciate/WebFIREFactors_090716.csv'\n",
    "df=pd.read_csv(dfile)\n",
    "wscc=(df['SCC'].map(np.str_)).values\n",
    "wpol=df['POLLUTANT'].values"
   ]
  },
  {
   "cell_type": "code",
   "execution_count": 3,
   "metadata": {},
   "outputs": [
    {
     "name": "stdout",
     "output_type": "stream",
     "text": [
      "['1,1,1-Trichloroethane' '1,2,3,4,6,7,8-Heptachlorodibenzo-p-dioxin'\n",
      " '1,2,3,4,6,7,8-Heptachlorodibenzofuran'\n",
      " '1,2,3,4,7,8,9-Heptachlorodibenzofuran'\n",
      " '1,2,3,4,7,8-Hexachlorodibenzo-p-dioxin'\n",
      " '1,2,3,4,7,8-Hexachlorodibenzofuran'\n",
      " '1,2,3,6,7,8-Hexachlorodibenzo-p-dioxin'\n",
      " '1,2,3,6,7,8-Hexachlorodibenzofuran'\n",
      " '1,2,3,7,8,9-Hexachlorodibenzo-p-dioxin'\n",
      " '1,2,3,7,8,9-Hexachlorodibenzofuran'\n",
      " '1,2,3,7,8-Pentachlorodibenzo-p-dioxin'\n",
      " '1,2,3,7,8-Pentachlorodibenzofuran' '1,3-Butadiene'\n",
      " '2,3,4,6,7,8-Hexachlorodibenzofuran' '2,3,4,7,8-Pentachlorodibenzofuran'\n",
      " '2,3,7,8-Tetrachlorodibenzo-p-dioxin' '2,3,7,8-Tetrachlorodibenzofuran'\n",
      " '2,4-Dinitrotoluene' '2-Chloroacetophenone' '2-Methyl Naphthalene'\n",
      " '3-Methylcholanthrene' '5-Methyl Chrysene' 'Acenaphthene' 'Acenaphthylene'\n",
      " 'Acetaldehyde' 'Acetonitrile' 'Acetophenone' 'Acrolein' 'Aluminum'\n",
      " 'Ammonia' 'Anthracene' 'Antimony' 'Arsenic' 'Barium' 'Benzene'\n",
      " 'Benzo (a) anthracene' 'Benzo (a) pyrene' 'Benzo (b) fluoranthene'\n",
      " 'Benzo (g,h,i) perylene' 'Benzo (k) fluoranthene' 'Benzo(b+k)fluoranthene'\n",
      " 'Benzofluoranthenes' 'Benzyl chloride' 'Beryllium' 'Biphenyl' 'Boron'\n",
      " 'Bromine' 'Bromoform' 'Cadmium' 'Calcium' 'Carbon dioxide'\n",
      " 'Carbon monoxide' 'Carbon sulfide' 'Chloride' 'Chlorobenzene' 'Chloroform'\n",
      " 'Chromium' 'Chromium (VI)' 'Chrysene' 'Cobalt' 'Copper' 'Cyanide'\n",
      " 'Dibenzo(a,h) anthracene' 'Dichlorobenzene, mixed isomers'\n",
      " 'Dichlorodibenzofurans, total' 'Dichloromethane' 'Dimethyl sulfate'\n",
      " 'Dimethylbenz(a)anthracene' 'Dioctyl phthalate' 'Ethane' 'Ethyl chloride'\n",
      " 'Ethylbenzene' 'Ethylene dibromide' 'Ethylene dichloride' 'Fluoranthene'\n",
      " 'Fluorene' 'Fluoride' 'Formaldehyde' 'Heptachlorodibenzo-p-dioxins, total'\n",
      " 'Heptachlorodibenzofurans, total' 'Hexachlorodibenzo-p-dioxins, total'\n",
      " 'Hexachlorodibenzofurans, total' 'Hydrogen chloride' 'Hydrogen fluoride'\n",
      " 'Indeno(1,2,3-cd)pyrene' 'Iron' 'Isomers of xylene' 'Isophorone'\n",
      " 'Isopropylbenzene' 'Lead' 'Magnesium' 'Manganese' 'Mercury' 'Methane'\n",
      " 'Methyl bromide' 'Methyl chloride' 'Methyl ethyl ketone'\n",
      " 'Methyl hydrazine' 'Methyl methacrylate' 'Molybdenum'\n",
      " 'Monochlorodibenzofurans, total' 'N-Hexane' 'N-Pentane' 'Naphthalene'\n",
      " 'Nickel' 'Nitrogen oxides (NOx)' 'Nitrous oxide'\n",
      " 'Octachlorodibenzo-p-dioxins, total' 'Octachlorodibenzofurans, total'\n",
      " 'PM, condensable' 'PM, condensable inorganics' 'PM, condensable organics'\n",
      " 'PM, filterable' 'PM, primary' 'PM10, filterable' 'PM10, primary'\n",
      " 'PM2.5, filterable' 'PM2.5, primary' 'Pentachlorodibenzo-p-dioxins, total'\n",
      " 'Pentachlorodibenzofurans, total' 'Perchloroethylene' 'Phenanthrene'\n",
      " 'Phenol' 'Phosphorus (yellow or white)'\n",
      " 'Polychlorinated dibenzo-p-dioxins and furans, total'\n",
      " 'Polychlorinated dibenzo-p-dioxins, total'\n",
      " 'Polychlorinated dibenzofurans, total'\n",
      " 'Polycyclic aromatic hydrocarbons (PAH)' 'Polycyclic organic matter (POM)'\n",
      " 'Potassium' 'Propane' 'Propionaldehyde' 'Pyrene' 'Selenium' 'Silicon'\n",
      " 'Sodium' 'Styrene' 'Sulfur dioxide' 'Sulfur oxides (SOx)'\n",
      " 'Sulfur trioxide' 'Tert-butyl methyl ether'\n",
      " 'Tetrachlorodibenzo-p-dioxins, total' 'Tetrachlorodibenzofurans, total'\n",
      " 'Tin' 'Toluene' 'Total non-methane organic compounds (TNMOC)'\n",
      " 'Total organic compounds (TOC)' 'Trichlorodibenzo-p-dioxins, total'\n",
      " 'Trichlorodibenzofurans, total' 'Trichloroethylene' 'Vanadium'\n",
      " 'Vinyl acetate' 'Volatile organic compounds (VOC)' 'Zinc' 'n-Butane'\n",
      " 'o-Xylene']\n"
     ]
    }
   ],
   "source": [
    "ia,ib=ismember(wscc,tscc)\n",
    "wpol=np.unique(wpol[ia])\n",
    "wscc=np.unique(wscc[ia])\n",
    "print(wpol)"
   ]
  },
  {
   "cell_type": "code",
   "execution_count": 4,
   "metadata": {},
   "outputs": [
    {
     "name": "stdout",
     "output_type": "stream",
     "text": [
      "USEPA WEBFIRE emission factor database has 156 pollutants matched to the 48 SCC in YUNLIN.\n"
     ]
    }
   ],
   "source": [
    "print(f'USEPA WEBFIRE emission factor database has {len(wpol)} pollutants matched to the {len(wscc)} SCC in YUNLIN.')"
   ]
  },
  {
   "cell_type": "markdown",
   "metadata": {},
   "source": [
    "# CMAQ inputs"
   ]
  },
  {
   "cell_type": "markdown",
   "metadata": {},
   "source": [
    "## 1. Emissions \n",
    "美國環保署(USEPA)依其排放源分類碼(SCC)建立個排放源汙染物排放因子(emission factor)WEBFIRE資料庫(USEPA, 2014)。SMOKE模式再依此關係將總有機汙染物解析(speciation)成各種CMAQ模式中大氣化學反應中模擬的汙染物。SMOKE模式又依SCC分類加入排放源時程，使各排放源排放依每日作息而有其日變化，周變化及月變化週期。\n",
    "\n",
    "TEDS9.0以2013排放量為基準因無各行業成長率目前以2013排放量為2014排放量輸入SMOKE。TEDS9.0各點源均有相對應之SCC，但資料庫中面源及線源卻無SCC對應。SMOKE排放模擬以TEDS9.0面源及線源分類中最接近的SCC取代。另外部分TEDS9.0點源SCC無對應汙染物解析方法亦以最接近取代。日，周，及月變化週期目前以臺灣時區(GMT+8)輸入SMOKE模式並設定輸出時區為格林威治標準時間(GMT)與CMAQ模式同步。TEDS9.0面源及線源為網格化資料以逸散性點源輸入SMOKE模式\n",
    "### 1.1 TEDS9.0 to SMOKE\n",
    "(see cmaq_pre_emission.ipynb and cmaq_ddm_3d_yulin0.csh for actual code)    \n",
    "  - TEDS9.0 is emission inventory of 2013 and is appled as 2014 emission inventory. May consider applying parameters such as GDP growth to test if the simulated emission is a better fit for the real world scenario.\n",
    "  - TEDS9.0 area and line source NSC converted to EPA SCC(Source classification codes) and treated as point source fugitive emission\n",
    "  - pollutant species: PM10, PM2.5, NOX, SOX, VOC, THC, CO, Pb, NH3(all records are 0)\n",
    "  - pollutant speciated according to SCC (USEPA, 2014). \n",
    "  - SCC not found in the CB06 speciation scheme (USEPA, 2014) replaced with closest match. may consider construct speciation scheme from WEBFIRE database to include more species.\n",
    "  - emission time zone is GMT+8 and SMOKE output as GMT\n",
    "  - temporal profile assigned according to SCC(USEPA, 2017)  \n",
    "  "
   ]
  },
  {
   "cell_type": "markdown",
   "metadata": {},
   "source": [
    "##### TEDS9.0 area and line source classification to SCC"
   ]
  },
  {
   "cell_type": "code",
   "execution_count": 22,
   "metadata": {},
   "outputs": [
    {
     "data": {
      "text/html": [
       "<div>\n",
       "<style>\n",
       "    .dataframe thead tr:only-child th {\n",
       "        text-align: right;\n",
       "    }\n",
       "\n",
       "    .dataframe thead th {\n",
       "        text-align: left;\n",
       "    }\n",
       "\n",
       "    .dataframe tbody tr th {\n",
       "        vertical-align: top;\n",
       "    }\n",
       "</style>\n",
       "<table border=\"1\" class=\"dataframe\">\n",
       "  <thead>\n",
       "    <tr style=\"text-align: right;\">\n",
       "      <th></th>\n",
       "      <th>NSC</th>\n",
       "      <th>NSC_SUB</th>\n",
       "      <th>DESC</th>\n",
       "      <th>SCC</th>\n",
       "    </tr>\n",
       "  </thead>\n",
       "  <tbody>\n",
       "    <tr>\n",
       "      <th>0</th>\n",
       "      <td>1</td>\n",
       "      <td>nan</td>\n",
       "      <td>住宅燃燒排放-液化石油氣</td>\n",
       "      <td>2104007000</td>\n",
       "    </tr>\n",
       "    <tr>\n",
       "      <th>1</th>\n",
       "      <td>5</td>\n",
       "      <td>nan</td>\n",
       "      <td>住宅燃燒排放-天然氣</td>\n",
       "      <td>2104006000</td>\n",
       "    </tr>\n",
       "    <tr>\n",
       "      <th>2</th>\n",
       "      <td>7</td>\n",
       "      <td>nan</td>\n",
       "      <td>商業燃燒排放</td>\n",
       "      <td>2103007000</td>\n",
       "    </tr>\n",
       "    <tr>\n",
       "      <th>3</th>\n",
       "      <td>7</td>\n",
       "      <td>A</td>\n",
       "      <td>商業燃燒排放-液化石油氣</td>\n",
       "      <td>2103007000</td>\n",
       "    </tr>\n",
       "    <tr>\n",
       "      <th>4</th>\n",
       "      <td>7</td>\n",
       "      <td>B</td>\n",
       "      <td>餐飲業油煙排放-中式餐飲</td>\n",
       "      <td>2103005000</td>\n",
       "    </tr>\n",
       "  </tbody>\n",
       "</table>\n",
       "</div>"
      ],
      "text/plain": [
       "  NSC NSC_SUB              DESC         SCC\n",
       "0   1     nan      住宅燃燒排放-液化石油氣  2104007000\n",
       "1   5     nan        住宅燃燒排放-天然氣  2104006000\n",
       "2   7     nan            商業燃燒排放  2103007000\n",
       "3   7       A      商業燃燒排放-液化石油氣  2103007000\n",
       "4   7       B      餐飲業油煙排放-中式餐飲  2103005000"
      ]
     },
     "metadata": {},
     "output_type": "display_data"
    }
   ],
   "source": [
    "keyf='/archives/data/tw/teds9/area_scc.xlsx'\n",
    "indf=pd.read_excel(keyf,dtype=np.str)\n",
    "display(indf.head(5))"
   ]
  },
  {
   "cell_type": "markdown",
   "metadata": {},
   "source": [
    "##### TEDS9.0 SCC to USEPA SCC"
   ]
  },
  {
   "cell_type": "code",
   "execution_count": 23,
   "metadata": {},
   "outputs": [
    {
     "name": "stdout",
     "output_type": "stream",
     "text": [
      "       scc0      scc1\n",
      "0  10200210  10200205\n",
      "1  28888802  30799999\n",
      "2  30102112  30102113\n",
      "3  30103425  30107001\n",
      "4  30103510  30101430\n"
     ]
    }
   ],
   "source": [
    "tdf=pd.read_fwf('/archives/utils/SMOKE/data/ge_dat/scc0_cb6.txt',width=np.zeros(2)+10,index_col=False,names=['scc0','scc1'])\n",
    "print(tdf.head(5))"
   ]
  },
  {
   "cell_type": "markdown",
   "metadata": {},
   "source": [
    "#### Pollutant speciation example \n",
    " - SCC 30107001: fugitive leak of Industrial Processes - Chemical Manufacturing, source profile 95325 emit TOG with the following species ACET, ALD2, ALDX, BENZENE, CH4, ETH, ETHA, ETHY, and so on. note that SCC 30107001 is an industry average calculated by USEPA. There is no corresponding measurement in Taiwan so the profile 95325 is the \"best guess\" adopted.     "
   ]
  },
  {
   "cell_type": "code",
   "execution_count": 7,
   "metadata": {
    "collapsed": true
   },
   "outputs": [],
   "source": [
    "ddir1=''.join(['/archives/utils/SMOKE/data/ge_dat/'])\n",
    "dfile=''.join([ddir1,'gspro.cmaq_cb06.txt'])\n",
    "scc1='30107001'\n",
    "grp=get_speciate(dfile,scc1,'TOG')"
   ]
  },
  {
   "cell_type": "code",
   "execution_count": 8,
   "metadata": {},
   "outputs": [
    {
     "data": {
      "image/png": "[encoded data removed]",
      "text/plain": [
       "<matplotlib.figure.Figure at 0x7ff4ed8ccd30>"
      ]
     },
     "metadata": {},
     "output_type": "display_data"
    }
   ],
   "source": [
    "labels=grp['pol'].values\n",
    "sizes=grp['ratio'].values\n",
    "srti=np.argsort(sizes)\n",
    "sizes=sizes[srti][::-1]\n",
    "labels=labels[srti][::-1]\n",
    "fig,ax=plt.subplots()\n",
    "#fig.set_figheight(10)\n",
    "fig.set_figwidth(10)\n",
    "pats,txts,auts=ax.pie(sizes,labels=labels,autopct='%1.1f%%',\n",
    "        shadow=True,startangle=90,rotatelabels=True)\n",
    "ax.axis('equal')\n",
    "ax.text(0.55,0.04,''.join(['Emission profile\\n used for SCC ',scc1]),verticalalignment='top', horizontalalignment='left',\\\n",
    "                    transform=ax.transAxes)\n",
    "ax.set_aspect('equal', 'datalim')\n",
    "list(map(lambda x:x.set_fontsize(2),auts[4:]))\n",
    "list(map(lambda x:x.set_fontsize(2),txts[8:]))"
   ]
  },
  {
   "cell_type": "code",
   "execution_count": 9,
   "metadata": {
    "collapsed": true
   },
   "outputs": [],
   "source": [
    "ddir1=''.join(['/archives/utils/SMOKE/data/ge_dat/'])\n",
    "dfile=''.join([ddir1,'gspro.cmaq_cb06.txt'])\n",
    "grp=get_speciate(dfile,tscc,'TOG')\n",
    "pol=grp['pol'].values\n",
    "pol=np.unique(pol)"
   ]
  },
  {
   "cell_type": "code",
   "execution_count": 10,
   "metadata": {
    "collapsed": true
   },
   "outputs": [],
   "source": [
    "spc1,spc2=get_abbr()\n",
    "ia,ib=ismember(pol,spc1)\n",
    "def spc_match(x,spc2=spc2):    \n",
    "    if np.isnan(x):\n",
    "        xo='nomatch'\n",
    "    else:\n",
    "        xo=spc2[int(x)]\n",
    "    return xo\n",
    "spc3=list(map(spc_match,ib))"
   ]
  },
  {
   "cell_type": "markdown",
   "metadata": {},
   "source": [
    "##### model species name speciated from VOC according to CB06 speciation"
   ]
  },
  {
   "cell_type": "code",
   "execution_count": 11,
   "metadata": {},
   "outputs": [
    {
     "name": "stdout",
     "output_type": "stream",
     "text": [
      "['ACET' 'ALD2' 'ALD2_PRIMARY' 'ALDX' 'BENZENE' 'CH4' 'ETH' 'ETHA' 'ETHY'\n",
      " 'ETOH' 'FORM' 'FORM_PRIMARY' 'IOLE' 'ISOP' 'KET' 'MEOH' 'NAPH' 'NVOL'\n",
      " 'OLE' 'PAR' 'PRPA' 'SOAALK' 'TERP' 'TOL' 'UNR' 'XYLMN']\n"
     ]
    }
   ],
   "source": [
    "#model species name\n",
    "print(pol)"
   ]
  },
  {
   "cell_type": "markdown",
   "metadata": {},
   "source": [
    "##### Full species name(some are lumped into other species so not all name is correct)"
   ]
  },
  {
   "cell_type": "code",
   "execution_count": 12,
   "metadata": {},
   "outputs": [
    {
     "name": "stdout",
     "output_type": "stream",
     "text": [
      "['ACETONE', 'ACETALDEHYDE', 'nomatch', 'GENERIC_ALDEHYDE', 'BENZENE', 'nomatch', 'ETHENE', 'ETHANE', 'ACETYLENE', 'ETHANOL', 'FORMALDEHYDE', 'nomatch', 'ETHENE', 'ISOPRENE', 'MEK', 'METHANOL', 'O-XYLENE', 'nomatch', 'ETHENE', 'ETHANE', 'PROPANE', 'DECANE', 'PINENE', 'TOLUENE', 'nomatch', 'O-XYLENE']\n",
      "26\n"
     ]
    }
   ],
   "source": [
    "#full species name(some are lumped into other species so not all name is correct)\n",
    "print(spc3)\n",
    "print(len(spc3))"
   ]
  },
  {
   "cell_type": "markdown",
   "metadata": {},
   "source": [
    "##### All pollutant species emitted from YUNLIN according CB06 speciation"
   ]
  },
  {
   "cell_type": "code",
   "execution_count": 13,
   "metadata": {
    "collapsed": true
   },
   "outputs": [
    {
     "name": "stdout",
     "output_type": "stream",
     "text": [
      "['ACET' 'ACETONITRILE' 'ACROLEIN' 'ACRYLICACID' 'ACRYLONITRILE' 'ALD2'\n",
      " 'ALD2_PRIMARY' 'ALDX' 'BENZENE' 'BR2_C2_12' 'BUTADIE' 'BUTADIENE13'\n",
      " 'CARBONTET' 'CARBSULFIDE' 'CH4' 'CHCL3' 'CHLOROPRENE' 'CL2' 'CL2_C2_12'\n",
      " 'CL2_ME' 'CL3_ETHE' 'CL4_ETHANE1122' 'CL4_ETHE' 'CL_ETHE' 'CO' 'CUMENE'\n",
      " 'DICHLOROBENZENE' 'DICHLOROPROPENE' 'DICHLRBNZN' 'DIESEL_PMC'\n",
      " 'DIESEL_PMEC' 'DIESEL_PMFINE' 'DIESEL_PMNO3' 'DIESEL_PMOC' 'DIESEL_PMSO4'\n",
      " 'ETH' 'ETHA' 'ETHDIBROM' 'ETHY' 'ETHYLBENZ' 'ETHYLBENZENE' 'ETOH' 'ETOX'\n",
      " 'FORM' 'FORM_PRIMARY' 'HCL' 'HEXAMETHY_DIIS' 'HEXANE' 'HFLUX' 'HGIIGAS'\n",
      " 'HGNRVA' 'HONO' 'HYDRAZINE' 'IOLE' 'ISOP' 'KET' 'MAL_ANHYDRIDE' 'MECL'\n",
      " 'MEOH' 'METHCHLORIDE' 'NAPH' 'NH3' 'NH3_FERT' 'NO' 'NO2' 'NR' 'NVOL' 'OLE'\n",
      " 'PAH_000E0' 'PAH_101E2' 'PAH_114E1' 'PAH_176E2' 'PAH_176E3' 'PAH_176E4'\n",
      " 'PAH_176E5' 'PAH_192E3' 'PAH_880E5' 'PAL' 'PAR' 'PCA' 'PCL' 'PEC' 'PFE'\n",
      " 'PH2O' 'PHGI' 'PK' 'PMG' 'PMN' 'PMOTHR' 'PNA' 'PNCOM' 'PNH4' 'PNO3' 'POC'\n",
      " 'PROPDICHLORIDE' 'PROPDICLR' 'PRPA' 'PSI' 'PSO4' 'PTI' 'QUINOLINE' 'SO2'\n",
      " 'SOAALK' 'STYRENE' 'SULF' 'TERP' 'TOL' 'TOLU' 'TOL_DIIS' 'TRICLA112'\n",
      " 'TRIETHYLAMINE' 'TTCLE1122' 'UNR' 'VINYCHLRI' 'VOC_INV' 'XYL' 'XYLENES'\n",
      " 'XYLMN']\n",
      "118\n"
     ]
    }
   ],
   "source": [
    "ddir1=''.join(['/archives/utils/SMOKE/data/ge_dat/'])\n",
    "dfile=''.join([ddir1,'gspro.cmaq_cb06.txt'])\n",
    "grp=get_speciate(dfile,tscc,'')\n",
    "pol=grp['pol'].values\n",
    "pol=np.unique(pol)\n",
    "print(pol)\n",
    "print(len(pol))"
   ]
  },
  {
   "cell_type": "markdown",
   "metadata": {},
   "source": [
    "#### Stack temporal profile examples \n",
    " - SCC 30107001 have a temporal profile of equal emission  \n",
    " - SCC 30501107 Cement Unloading to Elevated Storage Silo, have a temporal profile of diurnal pattern  \n",
    " - SCC 30900204 Garnet abrasive of diurnal pattern with 1 day off"
   ]
  },
  {
   "cell_type": "code",
   "execution_count": 14,
   "metadata": {
    "collapsed": true
   },
   "outputs": [],
   "source": [
    "times=pd.date_range('2014-01-01','2014-01-16',freq='1H')\n",
    "scc2='30501107'\n",
    "scc3='30900204'\n",
    "yemis=1e6\n",
    "tprof1=get_tprof(times,scc1,yemis)\n",
    "tprof2=get_tprof(times,scc2,yemis)\n",
    "tprof3=get_tprof(times,scc3,yemis)"
   ]
  },
  {
   "cell_type": "code",
   "execution_count": 27,
   "metadata": {
    "collapsed": true
   },
   "outputs": [
    {
     "data": {
      "image/png": "[encoded data removed]",
      "text/plain": [
       "<matplotlib.figure.Figure at 0x7ff4e311c240>"
      ]
     },
     "metadata": {},
     "output_type": "display_data"
    }
   ],
   "source": [
    "fig,ax=plt.subplots()\n",
    "#fig.set_figheight(10)\n",
    "fig.set_figwidth(20)\n",
    "ax.set_aspect(60,adjustable='box')\n",
    "days5=mpl.dates.DayLocator([1,5,10,15])\n",
    "days1=mpl.dates.DayLocator()\n",
    "#hours1=mpl.dates.HourLocator(6)\n",
    "tfmt=mpl.dates.DateFormatter('%m/%d')\n",
    "ax.plot(times,tprof1,'-',color='b',label=scc1)\n",
    "ax.plot(times,tprof2,'-',color='r',label=scc2)\n",
    "ax.plot(times,tprof3,'-',color='g',label=scc3)\n",
    "ax.axis([min(times),max(times),-0.005,0.13])\n",
    "ax.xaxis.set_major_locator(days5)\n",
    "ax.xaxis.set_minor_locator(days1)\n",
    "#ax.xaxis.set_minor_locator(hours1)\n",
    "ax.xaxis.set_major_formatter(tfmt)\n",
    "legend=ax.legend(loc='upper right',shadow=True,markerscale=2)\n",
    "ax.grid()\n",
    "plt.xlabel(str(times[-1].year))\n",
    "plt.ylabel(''.join(['Emission(g/s) from ',str(yemis/1e6),'(ton/year)']))\n",
    "plt.title('Temporal profiles of emssions in SMOKE')"
   ]
  },
  {
   "cell_type": "markdown",
   "metadata": {},
   "source": [
    "### 1.2 Industrial park specific emissions\n",
    "see cmaq_pre_emission.ipynb and cmaq_ddm_3d_yulin.csh(all in one) and cmaq_ddm_3d_STK.csh(12 source groups) for actual code  \n",
    "  - Input data: 2015 project emission profile of 16 species from 63 stacks\n",
    "  - Each stack matched to TEDS9.0 entries in Yunlin with partial match in company name and select the stack with lowest height as worst case to import into SMOKE.\n",
    "  - the 16 species added as inventory species and converted into appropraite species after speciation."
   ]
  },
  {
   "cell_type": "code",
   "execution_count": 24,
   "metadata": {
    "collapsed": true
   },
   "outputs": [
    {
     "data": {
      "text/html": [
       "<div>\n",
       "<style>\n",
       "    .dataframe thead tr:only-child th {\n",
       "        text-align: right;\n",
       "    }\n",
       "\n",
       "    .dataframe thead th {\n",
       "        text-align: left;\n",
       "    }\n",
       "\n",
       "    .dataframe tbody tr th {\n",
       "        vertical-align: top;\n",
       "    }\n",
       "</style>\n",
       "<table border=\"1\" class=\"dataframe\">\n",
       "  <thead>\n",
       "    <tr style=\"text-align: right;\">\n",
       "      <th></th>\n",
       "      <th>factory</th>\n",
       "      <th>shp</th>\n",
       "      <th>VINYCHLRI</th>\n",
       "      <th>BUTADIE</th>\n",
       "      <th>PROPDICLR</th>\n",
       "      <th>BENZENE</th>\n",
       "      <th>TRICLA112</th>\n",
       "      <th>MECL</th>\n",
       "      <th>TTCLE1122</th>\n",
       "      <th>ETHDIBROM</th>\n",
       "      <th>CHCL3</th>\n",
       "      <th>CARBONTET</th>\n",
       "      <th>CL2_C2_12</th>\n",
       "      <th>ETHYLBENZ</th>\n",
       "      <th>STYRENE</th>\n",
       "      <th>CUMENE</th>\n",
       "      <th>ISOP</th>\n",
       "      <th>DICHLRBNZN</th>\n",
       "      <th>key</th>\n",
       "    </tr>\n",
       "  </thead>\n",
       "  <tbody>\n",
       "    <tr>\n",
       "      <th>0</th>\n",
       "      <td>輕油廠</td>\n",
       "      <td>塑化公司_1</td>\n",
       "      <td>0.4460021</td>\n",
       "      <td>0</td>\n",
       "      <td>1</td>\n",
       "      <td>4.7589999999999995</td>\n",
       "      <td>1</td>\n",
       "      <td>0.88776087</td>\n",
       "      <td>1.1490001300000001</td>\n",
       "      <td>0.41100000000000003</td>\n",
       "      <td>0.33299999999999996</td>\n",
       "      <td>0.34500016000000006</td>\n",
       "      <td>0.7712401499999999</td>\n",
       "      <td>6.202</td>\n",
       "      <td>2.8532599999999997</td>\n",
       "      <td>0.1915212</td>\n",
       "      <td>0.049</td>\n",
       "      <td>0.33600016000000005</td>\n",
       "      <td>塑</td>\n",
       "    </tr>\n",
       "    <tr>\n",
       "      <th>1</th>\n",
       "      <td>輕油裂解廠 1</td>\n",
       "      <td>塑化公司_2</td>\n",
       "      <td>0.00072</td>\n",
       "      <td>0.005</td>\n",
       "      <td>1</td>\n",
       "      <td>4.45816</td>\n",
       "      <td>1</td>\n",
       "      <td>0.0056957</td>\n",
       "      <td>0.00082</td>\n",
       "      <td>0.00124</td>\n",
       "      <td>0.0297</td>\n",
       "      <td>0.00323</td>\n",
       "      <td>0.05296</td>\n",
       "      <td>0.5362100000000001</td>\n",
       "      <td>0.40363000000000004</td>\n",
       "      <td>1.5e-06</td>\n",
       "      <td>0</td>\n",
       "      <td>0.00383</td>\n",
       "      <td>塑</td>\n",
       "    </tr>\n",
       "    <tr>\n",
       "      <th>2</th>\n",
       "      <td>輕油裂解廠 2</td>\n",
       "      <td>塑化公司_3</td>\n",
       "      <td>0.00600084</td>\n",
       "      <td>5.2e-06</td>\n",
       "      <td>1</td>\n",
       "      <td>3.658</td>\n",
       "      <td>1</td>\n",
       "      <td>0.0450019</td>\n",
       "      <td>0.22700620000000002</td>\n",
       "      <td>0.0014021</td>\n",
       "      <td>4.5e-06</td>\n",
       "      <td>0.268005</td>\n",
       "      <td>0.67716</td>\n",
       "      <td>0.76347</td>\n",
       "      <td>0.8899999999999999</td>\n",
       "      <td>1.98e-05</td>\n",
       "      <td>3.9e-06</td>\n",
       "      <td>0.2830016</td>\n",
       "      <td>塑</td>\n",
       "    </tr>\n",
       "    <tr>\n",
       "      <th>3</th>\n",
       "      <td>輕油裂解廠 3</td>\n",
       "      <td>塑化公司_4-1</td>\n",
       "      <td>0.00619</td>\n",
       "      <td>0.00012</td>\n",
       "      <td>1</td>\n",
       "      <td>0.9209999999999999</td>\n",
       "      <td>1</td>\n",
       "      <td>0.663043</td>\n",
       "      <td>9.5e-05</td>\n",
       "      <td>0.00010899999999999999</td>\n",
       "      <td>0.03203</td>\n",
       "      <td>0.010033</td>\n",
       "      <td>0.065</td>\n",
       "      <td>0.321</td>\n",
       "      <td>0.093</td>\n",
       "      <td>3.5e-06</td>\n",
       "      <td>0</td>\n",
       "      <td>0.001735</td>\n",
       "      <td>塑</td>\n",
       "    </tr>\n",
       "    <tr>\n",
       "      <th>4</th>\n",
       "      <td>輕油裂解廠 3</td>\n",
       "      <td>塑化公司_4-2</td>\n",
       "      <td>0</td>\n",
       "      <td>0</td>\n",
       "      <td>1</td>\n",
       "      <td>0</td>\n",
       "      <td>1</td>\n",
       "      <td>0</td>\n",
       "      <td>0</td>\n",
       "      <td>0</td>\n",
       "      <td>0</td>\n",
       "      <td>0</td>\n",
       "      <td>0</td>\n",
       "      <td>3.5e-07</td>\n",
       "      <td>0</td>\n",
       "      <td>0</td>\n",
       "      <td>0</td>\n",
       "      <td>0</td>\n",
       "      <td>塑</td>\n",
       "    </tr>\n",
       "  </tbody>\n",
       "</table>\n",
       "</div>"
      ],
      "text/plain": [
       "   factory       shp   VINYCHLRI  BUTADIE PROPDICLR             BENZENE  \\\n",
       "0      輕油廠    塑化公司_1   0.4460021        0         1  4.7589999999999995   \n",
       "1  輕油裂解廠 1    塑化公司_2     0.00072    0.005         1             4.45816   \n",
       "2  輕油裂解廠 2    塑化公司_3  0.00600084  5.2e-06         1               3.658   \n",
       "3  輕油裂解廠 3  塑化公司_4-1     0.00619  0.00012         1  0.9209999999999999   \n",
       "4  輕油裂解廠 3  塑化公司_4-2           0        0         1                   0   \n",
       "\n",
       "  TRICLA112        MECL            TTCLE1122               ETHDIBROM  \\\n",
       "0         1  0.88776087   1.1490001300000001     0.41100000000000003   \n",
       "1         1   0.0056957              0.00082                 0.00124   \n",
       "2         1   0.0450019  0.22700620000000002               0.0014021   \n",
       "3         1    0.663043              9.5e-05  0.00010899999999999999   \n",
       "4         1           0                    0                       0   \n",
       "\n",
       "                 CHCL3            CARBONTET           CL2_C2_12  \\\n",
       "0  0.33299999999999996  0.34500016000000006  0.7712401499999999   \n",
       "1               0.0297              0.00323             0.05296   \n",
       "2              4.5e-06             0.268005             0.67716   \n",
       "3              0.03203             0.010033               0.065   \n",
       "4                    0                    0                   0   \n",
       "\n",
       "            ETHYLBENZ              STYRENE     CUMENE     ISOP  \\\n",
       "0               6.202   2.8532599999999997  0.1915212    0.049   \n",
       "1  0.5362100000000001  0.40363000000000004    1.5e-06        0   \n",
       "2             0.76347   0.8899999999999999   1.98e-05  3.9e-06   \n",
       "3               0.321                0.093    3.5e-06        0   \n",
       "4             3.5e-07                    0          0        0   \n",
       "\n",
       "            DICHLRBNZN key  \n",
       "0  0.33600016000000005   塑  \n",
       "1              0.00383   塑  \n",
       "2            0.2830016   塑  \n",
       "3             0.001735   塑  \n",
       "4                    0   塑  "
      ]
     },
     "metadata": {},
     "output_type": "display_data"
    }
   ],
   "source": [
    "dfile='/archives/data/tw/teds9/emissionLoc.xlsx'\n",
    "dfe=pd.read_excel(dfile,dtype=np.str,sheetname='Y2014',names=['factory','shp','VINYCHLRI','BUTADIE','PROPDICLR','BENZENE','TRICLA112','MECL','TTCLE1122','ETHDIBROM','CHCL3','CARBONTET','CL2_C2_12','ETHYLBENZ','STYRENE','CUMENE','ISOP','DICHLRBNZN','key'])\n",
    "from IPython.display import display\n",
    "display(dfe.head(5))\n",
    "#with pd.option_context('display.max_rows',-1,'display.max_columns',5,'display.max_colwidth',-1):\n",
    "#   display(dfe)"
   ]
  },
  {
   "cell_type": "code",
   "execution_count": 17,
   "metadata": {
    "collapsed": true
   },
   "outputs": [
    {
     "data": {
      "image/png": "[encoded data removed]",
      "text/plain": [
       "<matplotlib.figure.Figure at 0x7ff4e51ae128>"
      ]
     },
     "metadata": {},
     "output_type": "display_data"
    }
   ],
   "source": [
    "from aermod import plottw,plotboarders\n",
    "from mpl_toolkits.basemap import Basemap\n",
    "from matplotlib.patches import Polygon\n",
    "from matplotlib.collections import PatchCollection\n",
    "import glob\n",
    "dfiles='/archives/utils/SMOKE/data/inventory/teds9/point/CM*_ptinv_yulin_orl_nc.txt'\n",
    "fig,ax=plt.subplots()\n",
    "fig.set_figheight(8)\n",
    "#fig.set_figwidth(10)\n",
    "m=plottw([120.1,120.3,23.7,23.9])\n",
    "plotboarders(m,ax)\n",
    "m.drawmeridians(np.arange(100,180,.05),labels=[0,0,0,1],fontsize=10,ax=ax)\n",
    "m.drawparallels(np.arange(0,40,.05),labels=[1,0,0,0],fontsize=10,ax=ax)\n",
    "m.readshapefile('/archives/data/maps/yunlin/factories','factories',drawbounds=False)\n",
    "patches=[]\n",
    "for info, shape in zip(m.factories_info,m.factories):\n",
    "    patches.append(Polygon(np.array(shape),True))        \n",
    "ax.add_collection(PatchCollection(patches,facecolor='aqua',edgecolor='none',linewidths=0,zorder=2,label='Factories'))\n",
    "for nf,filename in enumerate(glob.glob(dfiles)):\n",
    "    df,cnm=read_inv(filename)\n",
    "    stx=df['stx'].values.mean()\n",
    "    sty=df['sty'].values.mean()\n",
    "    stxi,styi=m(stx,sty)\n",
    "    ax.plot(stxi,styi,'o',mfc='r',mec='r',markersize=4,label='Factories')\n",
    "plt.title('Source groups')"
   ]
  },
  {
   "cell_type": "markdown",
   "metadata": {},
   "source": [
    "## 2. Meteorology(WRFDA)\n",
    "WRFDA模式重建之氣象場驅動污染物傳輸。\n",
    "環保署模式支援中心報告（TWEPA，2017）指出雲嘉地區最佳模式設定為GMTED2010（Global Multi-resolution Terrain Elevation Data 2010）地形資料、WSM5（Single Moment 5-class scheme）微物理參數、YSU（Yonsei University scheme）邊界層參數。\n",
    "另以此模式設定加入海溫（NCEP FNL，2000）及數據同化（Data Assimilation）全球探空及地面測站資料（NCEP ADP，2008）與衛星輻射（NCEP GADS，2009）"
   ]
  },
  {
   "cell_type": "markdown",
   "metadata": {},
   "source": [
    "### 2.1 Ground station(NCEP ADP, 2008) used by WRFDA"
   ]
  },
  {
   "cell_type": "code",
   "execution_count": 18,
   "metadata": {
    "collapsed": true
   },
   "outputs": [],
   "source": [
    "#WRFDA plot pending"
   ]
  },
  {
   "cell_type": "markdown",
   "metadata": {},
   "source": [
    "### 2.2 Performance"
   ]
  },
  {
   "cell_type": "code",
   "execution_count": 19,
   "metadata": {
    "collapsed": true
   },
   "outputs": [],
   "source": [
    "#WRFDA plot pending"
   ]
  },
  {
   "cell_type": "markdown",
   "metadata": {},
   "source": [
    "## CMAQ_DDM_3D(USEPA, 2017)\n",
    "### 1. Addition of new species to CMAQ\n",
    "  - Henry's law gas-liquid phase partitioning for each new species where $H^{cp}$ is the Henry solubility. $c_a$ is concentration in aqueous phase and $p$ is partial pressure in the gas phase under equilibrium.\n",
    "  $$H^{cp}=\\frac{c_a}{p}$$\n",
    "  Modification added to CMAQ_DDM-3D/CCTM/src/cloud/acm_ae6_mp/hlconst.F according to the list compiled by Sander(2015).  \n",
    "  - No reaction definition added so far\n",
    "  \"CMAQ_DDM-3D/CCTM/src/MECHS/cb6r3_ae6yulintox/CSQY_DATA_cb6r3_ae6yulintox.nml\"  \n",
    "  - No Photolysis Rate Parameters added \"CMAQ_DDM-3D/CCTM/src/MECHS/cb6r3_ae6yulintox/CSQY_DATA_cb6r3_ae6yulintox.nml\"  \n",
    "  \n",
    "### 2. Sensitivity of model concentration from each source groups."
   ]
  },
  {
   "cell_type": "markdown",
   "metadata": {},
   "source": [
    "# References\n",
    "\n",
    " \n",
    "1. National Centers for Environmental Prediction/National Weather Service/NOAA/U.S. Department of Commerce. (2000) updated daily. NCEP FNL Operational Model Global Tropospheric Analyses, continuing from July 1999. Research Data Archive at the National Center for Atmospheric Research, Computational and Information Systems Laboratory. https://doi.org/10.5065/D6M043C6. Accessed 20171111.  \n",
    "\n",
    "1. National Centers for Environmental Prediction/National Weather Service/NOAA/U.S. Department of Commerce. (2008) updated daily. NCEP ADP Global Upper Air and Surface Weather Observations (PREPBUFR format), May 1997 - Continuing. Research Data Archive at the National Center for Atmospheric Research, Computational and Information Systems Laboratory. http://rda.ucar.edu/datasets/ds337.0/. Accessed 20171113.  \n",
    "\n",
    "1. National Centers for Environmental Prediction/National Weather Service/NOAA/U.S. Department of Commerce. (2009) updated daily. NCEP GDAS Satellite Data 2004-continuing. Research Data Archive at the National Center for Atmospheric Research, Computational and Information Systems Laboratory. http://rda.ucar.edu/datasets/ds735.0/. Accessed 20171129.  \n",
    "\n",
    "1. Sander, R. (2015). Compilation of Henry's law constants (version 4.0) for water as solvent. Atmos. Chem. Phys., 15:4399-V4981, 2015\n",
    "\n",
    "1. USEPA (2014) National Air Toxics Assessment. U.S. Environmental Protection Agency, Office of Air and Radiation, Office of Air Quality Planning and Standards, Air Quality Assessment Division https://www.epa.gov/air-emissions-modeling/2014-version-70-platform  \n",
    "\n",
    "1. USEPA (2017) CMAQ Decoupled Direct Method in Three Dimensions (CMAQ-DDM-3D). https://www.epa.gov/cmaq/cmaq-decoupled-direct-method-three-dimensions-cmaq-ddm-3d. Accessed 20171211  \n",
    "\n",
    "1. TWEPA (2013) Taiwan Emission Data System 9.0(TEDS9.0). Taiwan Environmental Protection Administration, https://teds.epa.gov.tw \n",
    "\n",
    "1. TWEPA (2017) 強化空氣品質模式制度建立計畫(第二年). 行政院環境保護署. EPA-105 -FA18FA18 -03 -D045 期末報告定稿"
   ]
  },
  {
   "cell_type": "code",
   "execution_count": null,
   "metadata": {
    "collapsed": true
   },
   "outputs": [],
   "source": []
  },
  {
   "cell_type": "code",
   "execution_count": null,
   "metadata": {
    "collapsed": true
   },
   "outputs": [],
   "source": []
  }
 ],
 "metadata": {
  "kernelspec": {
   "display_name": "Python [conda env:notebook]",
   "language": "python",
   "name": "conda-env-notebook-py"
  },
  "language_info": {
   "codemirror_mode": {
    "name": "ipython",
    "version": 3
   },
   "file_extension": ".py",
   "mimetype": "text/x-python",
   "name": "python",
   "nbconvert_exporter": "python",
   "pygments_lexer": "ipython3",
   "version": "3.6.3"
  }
 },
 "nbformat": 4,
 "nbformat_minor": 2
}
