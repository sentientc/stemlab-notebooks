{
 "cells": [
  {
   "cell_type": "markdown",
   "metadata": {},
   "source": [
    "Spatial interpolation\n",
    "======"
   ]
  },
  {
   "cell_type": "markdown",
   "metadata": {},
   "source": [
    "1. Univariable prediction with regression-kriging  (Pebesma, 2004)\n",
    "----------\n",
    "$$Z(s)=\\sum_{j=0}^P X_j(s)\\beta_j+e(s)=X\\beta+e(s)$$\n",
    "where $Z(s_n)$ is a vecotr of n observations at location $s_i$ and is assumed to have a trend $\\beta$ and a residual $e(s)$. $X_j(s),J>0$ are the predictors.  \n",
    "  \n",
    "For spatial data, $e(s)$ (residuals) are usually spatially correlated with covariance matrix V.  \n",
    "The beast linear unbiased prediction of $Z(s_0)$ at an unobserved location $s_0$ is the following.\n",
    "$$\\hat{Z}(s_0)=x(s_0)\\hat{\\beta}+v^{\\prime}V^{-1}(Z(s)-X\\hat{\\beta})$$\n",
    "where generalised least-squares estimate of the trend coefficient $\\hat{\\beta}=(X^{\\prime}V^{-1}X)^{-1}X^{\\prime}V^{-1}Z(s)$ ($X^{\\prime}$ is transpose of X) and covariance $v=(Cov(Z(s_0),Z(s_1)),\\cdots,Cov(Z(s_0),Z(s_n)))^{\\prime}$.  \n",
    "  \n",
    "Prediction error variance is  \n",
    "$$\\sigma^2(s_0)=\\sigma_0^2-v^{\\prime}V^{-1}v+(x(s_0)-v^{\\prime}V^{-1}X)(X^{\\prime}V^{-1}X)^{-1}\\times(x(s_0)-v^{\\prime}V^{-1}X)^{\\prime}$$\n",
    "where $\\sigma_0^2$ is $Var(Z(s_0))$"
   ]
  },
  {
   "cell_type": "markdown",
   "metadata": {},
   "source": [
    "2. Bayesian combination  (Fuentes and Raftery, 2005)\n",
    "----------"
   ]
  },
  {
   "cell_type": "markdown",
   "metadata": {},
   "source": [
    "Machine Learning for observation based emission estimation\n",
    "------"
   ]
  },
  {
   "cell_type": "markdown",
   "metadata": {},
   "source": [
    "$$C_j=\\sum^{n'}_{i=0}\\theta(\\varepsilon_i,x_j,t)$$\n",
    "$\\theta(\\varepsilon_i,x_j,t)$ is the contribution of the emission($\\varepsilon_i$ at time t) of a pollutant to the location($x_j$) at time t. Sum of $\\theta$ from all emissions($n'$) is the pollutant concentration($C_j$) at location($x_j$)."
   ]
  },
  {
   "cell_type": "markdown",
   "metadata": {},
   "source": [
    "CMAQ DDM 3D sensitivity(S)\n",
    "-----------"
   ]
  },
  {
   "cell_type": "markdown",
   "metadata": {},
   "source": [
    "$$S_j=\\frac{\\partial C_j}{\\partial \\varepsilon_i}$$"
   ]
  },
  {
   "cell_type": "markdown",
   "metadata": {},
   "source": [
    "$$\\therefore C_j=\\sum^{n'}_{i=0}\\varepsilon_iS_j$$"
   ]
  },
  {
   "cell_type": "markdown",
   "metadata": {},
   "source": [
    "Modelled the observed pollutant concetration as\n",
    "$$\\left[\\begin{array}{c}\n",
    "C_1(t)  \\\\\n",
    "C_2(t)  \\\\\n",
    "\\vdots \\\\\n",
    "C_{m-1}(t)  \\\\\n",
    "C_m(t)\n",
    "\\end{array}\\right] \\approx\n",
    "\\left[\\begin{array}{c}\n",
    "H_1(t)  \\\\\n",
    "H_2(t)  \\\\\n",
    "\\vdots \\\\\n",
    "H_{m-1}(t)  \\\\\n",
    "H_m(t)\n",
    "\\end{array}\\right]=\n",
    "\\left[\\begin{array}{cccc}\n",
    "\\sigma_1(t) & S_1(t)\\varepsilon_1(t) & S_1(t)\\varepsilon_2(t) & \\cdots & S_1(t)\\varepsilon_n(t) \\\\\n",
    "\\sigma_2(t) & S_2(t)\\varepsilon_1(t) & S_2(t)\\varepsilon_2(t) & \\cdots & S_2(t)\\varepsilon_n(t) \\\\\n",
    "\\vdots & \\vdots & \\vdots & \\ddots & \\vdots  \\\\\n",
    "\\sigma_{m-1}(t) & S_{m-1}(t)\\varepsilon_1(t) & S_{m-1}(t)\\varepsilon_2(t) & \\cdots & S_{m-1}(t)\\varepsilon_n(t) \\\\\n",
    "\\sigma_m(t) & S_{m}(t)\\varepsilon_1(t) & S_{m}(t)\\varepsilon_2(t) & \\cdots & S_{m}(t)\\varepsilon_n(t) \n",
    "\\end{array}\\right]\n",
    "\\left[\\begin{array}{c}\n",
    "1 \\\\\n",
    "x_1(t)  \\\\\n",
    "x_2(t)  \\\\\n",
    "\\vdots \\\\\n",
    "x_{n-1}(t)  \\\\\n",
    "x_n(t)\n",
    "\\end{array}\\right]\n",
    "$$\n",
    "$\\sigma_1 \\cdots \\sigma_m$ are the unknown at location 1 $\\cdots$ m and $x_1 \\cdots x_n$ are the modification to emissions $\\varepsilon_1 \\cdots \\varepsilon_n$.  \n",
    "The goal is to minimise the difference between the observed($C_1 \\cdots C_m$) with model results(hypothesis $H_1 \\cdots H_m$). That is minimise the cost function J.\n",
    "$$J=\\frac{1}{2}\\sum^m_{j=1}(H_j-C_j)^2$$"
   ]
  },
  {
   "cell_type": "markdown",
   "metadata": {},
   "source": []
  },
  {
   "cell_type": "markdown",
   "metadata": {
    "collapsed": true
   },
   "source": [
    "$$\\left[\\begin{array}{c}\n",
    "C_1(t)  \\\\\n",
    "C_2(t)  \\\\\n",
    "\\vdots \\\\\n",
    "C_{m-1}(t)  \\\\\n",
    "C_m(t)\n",
    "\\end{array}\\right]=\n",
    "\\left[\\begin{array}{cccc}\n",
    "\\sigma_1(t) & \\theta_1(\\varepsilon_1(t)) & \\theta_1(\\varepsilon_2(t)) & \\cdots & \\theta_1(\\varepsilon_n(t)) \\\\\n",
    "\\sigma_2(t) & \\theta_2(\\varepsilon_1(t)) & \\theta_2(\\varepsilon_2(t)) & \\cdots & \\theta_2(\\varepsilon_n(t)) \\\\\n",
    "\\vdots & \\vdots & \\vdots & \\ddots & \\vdots  \\\\\n",
    "\\sigma_{m-1}(t) & \\theta_{m-1}(\\varepsilon_1(t)) & \\theta_{m-1}(\\varepsilon_2(t)) & \\cdots & \\theta_{m-1}(\\varepsilon_n(t)) \\\\\n",
    "\\sigma_m(t) & \\theta_{m}(\\varepsilon_1(t)) & \\theta_{m}(\\varepsilon_2(t)) & \\cdots & \\theta_{m}(\\varepsilon_n(t)) \n",
    "\\end{array}\\right]\n",
    "\\left[\\begin{array}{c}\n",
    "x_1(t)  \\\\\n",
    "x_2(t)  \\\\\n",
    "\\vdots \\\\\n",
    "x_{m-1}(t)  \\\\\n",
    "x_m(t)\n",
    "\\end{array}\\right]\n",
    "$$"
   ]
  },
  {
   "cell_type": "markdown",
   "metadata": {},
   "source": [
    "$$\\left[\\begin{array}{c}\n",
    "C_1(t)  \\\\\n",
    "C_2(t)  \\\\\n",
    "\\vdots \\\\\n",
    "C_{n-1}(t)  \\\\\n",
    "C_n(t)\n",
    "\\end{array}\\right]=\n",
    "\\left[\\begin{array}{cccc}\n",
    "\\sigma_1(t) & \\theta_1(\\varepsilon_1(t)) & \\theta_1(\\varepsilon_2(t)) & \\cdots & \\theta_1(\\varepsilon_m(t)) \\\\\n",
    "\\sigma_2(t) & \\theta_2(\\varepsilon_1(t)) & \\theta_2(\\varepsilon_2(t)) & \\cdots & \\theta_2(\\varepsilon_m(t)) \\\\\n",
    "\\vdots & \\vdots & \\vdots & \\ddots & \\vdots  \\\\\n",
    "\\sigma_{n-1}(t) & \\theta_{n-1}(\\varepsilon_1(t)) & \\theta_{n-1}(\\varepsilon_2(t)) & \\cdots & \\theta_{n-1}(\\varepsilon_m(t)) \\\\\n",
    "\\sigma_n(t) & \\theta_n(\\varepsilon_1(t)) & \\theta_n(\\varepsilon_2(t)) & \\cdots & \\theta_n(\\varepsilon_m(t)) \n",
    "\\end{array}\\right]\n",
    "\\left[\\begin{array}{cccc}\n",
    "1 \\\\ S_1(t) \\\\ \\vdots \\\\ S_{m-1}(t) \\\\ S_m(t)\n",
    "\\end{array}\\right]\n",
    "$$"
   ]
  },
  {
   "cell_type": "code",
   "execution_count": null,
   "metadata": {
    "collapsed": true
   },
   "outputs": [],
   "source": [
    "\n"
   ]
  }
 ],
 "metadata": {
  "kernelspec": {
   "display_name": "Python [default]",
   "language": "python",
   "name": "python3"
  },
  "language_info": {
   "codemirror_mode": {
    "name": "ipython",
    "version": 3
   },
   "file_extension": ".py",
   "mimetype": "text/x-python",
   "name": "python",
   "nbconvert_exporter": "python",
   "pygments_lexer": "ipython3",
   "version": "3.6.3"
  }
 },
 "nbformat": 4,
 "nbformat_minor": 2
}
